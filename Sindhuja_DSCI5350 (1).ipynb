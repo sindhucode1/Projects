{
 "cells": [
  {
   "cell_type": "code",
   "execution_count": 0,
   "metadata": {
    "application/vnd.databricks.v1+cell": {
     "cellMetadata": {
      "byteLimit": 2048000,
      "rowLimit": 10000
     },
     "inputWidgets": {},
     "nuid": "8b622c9d-0e80-4490-b769-fbe517b03ac1",
     "showTitle": false,
     "title": ""
    }
   },
   "outputs": [
    {
     "output_type": "display_data",
     "data": {
      "application/vnd.databricks.v1+bamboolib_hint": "{\"pd.DataFrames\": [], \"version\": \"0.0.1\"}",
      "text/plain": []
     },
     "metadata": {},
     "output_type": "display_data"
    }
   ],
   "source": [
    "import numpy as np\n",
    "import pandas as pd\n",
    "import pyspark.pandas as ps"
   ]
  },
  {
   "cell_type": "code",
   "execution_count": 0,
   "metadata": {
    "application/vnd.databricks.v1+cell": {
     "cellMetadata": {
      "byteLimit": 2048000,
      "rowLimit": 10000
     },
     "inputWidgets": {},
     "nuid": "519f12c0-2811-4644-8083-c1f7747dc6cc",
     "showTitle": false,
     "title": ""
    }
   },
   "outputs": [
    {
     "output_type": "stream",
     "name": "stdout",
     "output_type": "stream",
     "text": [
      "+----------+---------+--------------------+--------------------+-----+------------+------------+--------------------+--------------------+\n|first_name|last_name|        company_name|             address|  zip|      phone1|      phone2|               email|                 web|\n+----------+---------+--------------------+--------------------+-----+------------+------------+--------------------+--------------------+\n|     James|     Butt|   Benton, John B Jr|  6649 N Blue Gum St|70116|504-621-8927|504-845-1427|     jbutt@gmail.com|http://www.benton...|\n| Josephine|  Darakjy|Chanay, Jeffrey A...| 4 B Blue Ridge Blvd|48116|810-292-9388|810-374-9840|josephine_darakjy...|http://www.chanay...|\n|       Art|   Venere| Chemel, James L Cpa|8 W Cerritos Ave #54| 8014|856-636-8749|856-264-4130|      art@venere.org|http://www.chemel...|\n|     Lenna| Paprocki|Feltz Printing Se...|         639 Main St|99501|907-385-4412|907-921-2010|lpaprocki@hotmail...|http://www.feltzp...|\n|   Donette|   Foller| Printing Dimensions|        34 Center St|45011|513-570-1893|513-549-4561|donette.foller@co...|http://www.printi...|\n|    Simona|  Morasca| Chapman, Ross E Esq|        3 Mcauley Dr|44805|419-503-2484|419-800-6759|  simona@morasca.com|http://www.chapma...|\n|    Mitsue|  Tollner|  Morlong Associates|           7 Eads St|60632|773-573-6914|773-924-8565|mitsue_tollner@ya...|http://www.morlon...|\n|     Leota| Dilliard|    Commercial Press|    7 W Jackson Blvd|95111|408-752-3500|408-813-1105|   leota@hotmail.com|http://www.commer...|\n|      Sage|   Wieser|Truhlar And Truhl...|    5 Boston Ave #88|57105|605-414-2147|605-794-4895| sage_wieser@cox.net|http://www.truhla...|\n|      Kris|  Marrier|King, Christopher...|228 Runamuck Pl #...|21224|410-655-8723|410-804-4694|      kris@gmail.com|http://www.kingch...|\n|     Minna|   Amigon|   Dorl, James J Esq|    2371 Jerrold Ave|19443|215-874-1229|215-422-8694|minna_amigon@yaho...|http://www.dorlja...|\n|      Abel|  Maclead| Rangoni Of Florence|  37275 St  Rt 17m M|11953|631-335-3414|631-677-3675|  amaclead@gmail.com|http://www.rangon...|\n|     Kiley|Caldarera|         Feiner Bros|    25 E 75th St #69|90034|310-498-5651|310-254-3084|kiley.caldarera@a...|http://www.feiner...|\n|  Graciela|     Ruta|Buckley Miller & ...|98 Connecticut Av...|44023|440-780-8425|440-579-7763|       gruta@cox.net|http://www.buckle...|\n|     Cammy|  Albares|Rousseaux, Michae...|    56 E Morehead St|78045|956-537-6195|956-841-7216|  calbares@gmail.com|http://www.rousse...|\n|    Mattie| Poquette|Century Communica...| 73 State Road 434 E|85013|602-277-4385|602-953-6360|      mattie@aol.com|http://www.centur...|\n|   Meaghan|   Garufi|  Bolton, Wilbur Esq| 69734 E Carrillo St|37110|931-313-9635|931-235-7959| meaghan@hotmail.com|http://www.bolton...|\n|    Gladys|      Rim|T M Byxbee Compan...|322 New Horizon Blvd|53207|414-661-9598|414-377-2880|  gladys.rim@rim.org|http://www.tmbyxb...|\n|      Yuki|  Whobrey|Farmers Insurance...|    1 State Route 27|48180|313-288-7937|313-341-4470|yuki_whobrey@aol.com|http://www.farmer...|\n|  Fletcher|    Flosi|Post Box Services...| 394 Manchester Blvd|61109|815-828-2147|815-426-5657|fletcher.flosi@ya...|http://www.postbo...|\n+----------+---------+--------------------+--------------------+-----+------------+------------+--------------------+--------------------+\nonly showing top 20 rows\n\n"
     ]
    }
   ],
   "source": [
    "df = spark.read.csv(\"/FileStore/tables/accounts-1.csv\" ,header='True',inferSchema='TRUE')\n",
    "df.show()"
   ]
  },
  {
   "cell_type": "code",
   "execution_count": 0,
   "metadata": {
    "application/vnd.databricks.v1+cell": {
     "cellMetadata": {
      "byteLimit": 2048000,
      "rowLimit": 10000
     },
     "inputWidgets": {},
     "nuid": "f1441890-1003-42f7-97dc-01caebd9dedd",
     "showTitle": false,
     "title": ""
    }
   },
   "outputs": [
    {
     "output_type": "stream",
     "name": "stdout",
     "output_type": "stream",
     "text": [
      "+----------+----------+--------------------+---+--------+-------------+--------------+--------------------+----------+\n|ACT Symbol|CQS Symbol|        Company Name|ETF|Exchange|NASDAQ Symbol|Round Lot Size|       Security Name|Test Issue|\n+----------+----------+--------------------+---+--------+-------------+--------------+--------------------+----------+\n|         A|         A|Agilent Technolog...|  N|       N|            A|         100.0|Agilent Technolog...|         N|\n|        AA|        AA|Alcoa Inc. Common...|  N|       N|           AA|         100.0|Alcoa Inc. Common...|         N|\n|       AA$|       AAp|Alcoa Inc. $3.75 ...|  N|       A|          AA-|         100.0|Alcoa Inc. $3.75 ...|         N|\n|      AA$B|      AApB|Alcoa Inc. Deposi...|  N|       N|         AA-B|         100.0|Alcoa Inc. Deposi...|         N|\n|       AAC|       AAC|AAC Holdings, Inc...|  N|       N|          AAC|         100.0|AAC Holdings, Inc...|         N|\n|      AADR|      AADR|WCM BNY Mellon Fo...|  Y|       P|         AADR|         100.0|WCM BNY Mellon Fo...|         N|\n|      AAMC|      AAMC|Altisource Asset ...|  N|       A|         AAMC|         100.0|Altisource Asset ...|         N|\n|       AAN|       AAN|Aaron's, Inc. Com...|  N|       N|          AAN|         100.0|Aaron's, Inc. Com...|         N|\n|       AAP|       AAP|Advance Auto Part...|  N|       N|          AAP|         100.0|Advance Auto Part...|         N|\n|       AAT|       AAT|American Assets T...|  N|       N|          AAT|         100.0|American Assets T...|         N|\n|       AAU|       AAU|Almaden Minerals,...|  N|       A|          AAU|         100.0|Almaden Minerals,...|         N|\n|       AAV|       AAV|Advantage Oil & G...|  N|       N|          AAV|         100.0|Advantage Oil & G...|         N|\n|        AB|        AB|Allianceberstein ...|  N|       N|           AB|         100.0|Allianceberstein ...|         N|\n|       ABB|       ABB|ABB Ltd Common Stock|  N|       N|          ABB|         100.0|ABB Ltd Common Stock|         N|\n|      ABBV|      ABBV|AbbVie Inc. Commo...|  N|       N|         ABBV|         100.0|AbbVie Inc. Commo...|         N|\n|       ABC|       ABC|AmerisourceBergen...|  N|       N|          ABC|         100.0|AmerisourceBergen...|         N|\n|      ABEV|      ABEV|Ambev S.A. Americ...|  N|       N|         ABEV|         100.0|Ambev S.A. Americ...|         N|\n|       ABG|       ABG|Asbury Automotive...|  N|       N|          ABG|         100.0|Asbury Automotive...|         N|\n|       ABM|       ABM|ABM Industries In...|  N|       N|          ABM|         100.0|ABM Industries In...|         N|\n|       ABR|       ABR|Arbor Realty Trus...|  N|       N|          ABR|         100.0|Arbor Realty Trus...|         N|\n+----------+----------+--------------------+---+--------+-------------+--------------+--------------------+----------+\nonly showing top 20 rows\n\n"
     ]
    }
   ],
   "source": [
    "df1=spark.read.format('json').load(\"/FileStore/tables/nyse-1.json\")\n",
    "df1.show()"
   ]
  },
  {
   "cell_type": "code",
   "execution_count": 0,
   "metadata": {
    "application/vnd.databricks.v1+cell": {
     "cellMetadata": {
      "byteLimit": 2048000,
      "rowLimit": 10000
     },
     "inputWidgets": {},
     "nuid": "371d0678-de29-4128-b4bf-25e2cdae26f7",
     "showTitle": false,
     "title": ""
    }
   },
   "outputs": [
    {
     "output_type": "stream",
     "name": "stdout",
     "output_type": "stream",
     "text": [
      "Out[7]: DataFrame[]"
     ]
    }
   ],
   "source": [
    "spark.sql(\"CREATE DATABASE if not EXISTS dsci5350_Sindhuja\")\n",
    "spark.sql(\"USE dsci5350_Sindhuja\")\n",
    " \n",
    "spark.sql(\"\"\"CREATE TABLE accounts_tb(first_name STRING, last_name STRING, company_name STRING, address STRING, zip INT,\n",
    "phone1 STRING, phone2 STRING, email STRING, web STRING) USING csv OPTIONS (PATH '/FileStore/tables/accounts-1.csv')\"\"\")"
   ]
  },
  {
   "cell_type": "code",
   "execution_count": 0,
   "metadata": {
    "application/vnd.databricks.v1+cell": {
     "cellMetadata": {
      "byteLimit": 2048000,
      "rowLimit": 10000
     },
     "inputWidgets": {},
     "nuid": "cdae280e-8280-4afa-bf60-0d8318b959b2",
     "showTitle": false,
     "title": ""
    }
   },
   "outputs": [
    {
     "output_type": "stream",
     "name": "stdout",
     "output_type": "stream",
     "text": [
      "+----------+---------+--------------------+--------------------+-----+------------+------------+--------------------+--------------------+\n|first_name|last_name|        company_name|             address|  zip|      phone1|      phone2|               email|                 web|\n+----------+---------+--------------------+--------------------+-----+------------+------------+--------------------+--------------------+\n|first_name|last_name|        company_name|             address| null|      phone1|      phone2|               email|                 web|\n|     James|     Butt|   Benton, John B Jr|  6649 N Blue Gum St|70116|504-621-8927|504-845-1427|     jbutt@gmail.com|http://www.benton...|\n| Josephine|  Darakjy|Chanay, Jeffrey A...| 4 B Blue Ridge Blvd|48116|810-292-9388|810-374-9840|josephine_darakjy...|http://www.chanay...|\n|       Art|   Venere| Chemel, James L Cpa|8 W Cerritos Ave #54| 8014|856-636-8749|856-264-4130|      art@venere.org|http://www.chemel...|\n|     Lenna| Paprocki|Feltz Printing Se...|         639 Main St|99501|907-385-4412|907-921-2010|lpaprocki@hotmail...|http://www.feltzp...|\n|   Donette|   Foller| Printing Dimensions|        34 Center St|45011|513-570-1893|513-549-4561|donette.foller@co...|http://www.printi...|\n|    Simona|  Morasca| Chapman, Ross E Esq|        3 Mcauley Dr|44805|419-503-2484|419-800-6759|  simona@morasca.com|http://www.chapma...|\n|    Mitsue|  Tollner|  Morlong Associates|           7 Eads St|60632|773-573-6914|773-924-8565|mitsue_tollner@ya...|http://www.morlon...|\n|     Leota| Dilliard|    Commercial Press|    7 W Jackson Blvd|95111|408-752-3500|408-813-1105|   leota@hotmail.com|http://www.commer...|\n|      Sage|   Wieser|Truhlar And Truhl...|    5 Boston Ave #88|57105|605-414-2147|605-794-4895| sage_wieser@cox.net|http://www.truhla...|\n|      Kris|  Marrier|King, Christopher...|228 Runamuck Pl #...|21224|410-655-8723|410-804-4694|      kris@gmail.com|http://www.kingch...|\n|     Minna|   Amigon|   Dorl, James J Esq|    2371 Jerrold Ave|19443|215-874-1229|215-422-8694|minna_amigon@yaho...|http://www.dorlja...|\n|      Abel|  Maclead| Rangoni Of Florence|  37275 St  Rt 17m M|11953|631-335-3414|631-677-3675|  amaclead@gmail.com|http://www.rangon...|\n|     Kiley|Caldarera|         Feiner Bros|    25 E 75th St #69|90034|310-498-5651|310-254-3084|kiley.caldarera@a...|http://www.feiner...|\n|  Graciela|     Ruta|Buckley Miller & ...|98 Connecticut Av...|44023|440-780-8425|440-579-7763|       gruta@cox.net|http://www.buckle...|\n|     Cammy|  Albares|Rousseaux, Michae...|    56 E Morehead St|78045|956-537-6195|956-841-7216|  calbares@gmail.com|http://www.rousse...|\n|    Mattie| Poquette|Century Communica...| 73 State Road 434 E|85013|602-277-4385|602-953-6360|      mattie@aol.com|http://www.centur...|\n|   Meaghan|   Garufi|  Bolton, Wilbur Esq| 69734 E Carrillo St|37110|931-313-9635|931-235-7959| meaghan@hotmail.com|http://www.bolton...|\n|    Gladys|      Rim|T M Byxbee Compan...|322 New Horizon Blvd|53207|414-661-9598|414-377-2880|  gladys.rim@rim.org|http://www.tmbyxb...|\n|      Yuki|  Whobrey|Farmers Insurance...|    1 State Route 27|48180|313-288-7937|313-341-4470|yuki_whobrey@aol.com|http://www.farmer...|\n+----------+---------+--------------------+--------------------+-----+------------+------------+--------------------+--------------------+\nonly showing top 20 rows\n\n"
     ]
    }
   ],
   "source": [
    "spark.sql(\"SELECT * FROM accounts_tb\").show()"
   ]
  },
  {
   "cell_type": "code",
   "execution_count": 0,
   "metadata": {
    "application/vnd.databricks.v1+cell": {
     "cellMetadata": {
      "byteLimit": 2048000,
      "rowLimit": 10000
     },
     "inputWidgets": {},
     "nuid": "5d3ca358-53a9-4f5b-a740-f7cf7a2483a1",
     "showTitle": false,
     "title": ""
    }
   },
   "outputs": [
    {
     "output_type": "stream",
     "name": "stdout",
     "output_type": "stream",
     "text": [
      "Out[10]: [Column(name='first_name', description=None, dataType='string', nullable=True, isPartition=False, isBucket=False),\n Column(name='last_name', description=None, dataType='string', nullable=True, isPartition=False, isBucket=False),\n Column(name='company_name', description=None, dataType='string', nullable=True, isPartition=False, isBucket=False),\n Column(name='address', description=None, dataType='string', nullable=True, isPartition=False, isBucket=False),\n Column(name='zip', description=None, dataType='int', nullable=True, isPartition=False, isBucket=False),\n Column(name='phone1', description=None, dataType='string', nullable=True, isPartition=False, isBucket=False),\n Column(name='phone2', description=None, dataType='string', nullable=True, isPartition=False, isBucket=False),\n Column(name='email', description=None, dataType='string', nullable=True, isPartition=False, isBucket=False),\n Column(name='web', description=None, dataType='string', nullable=True, isPartition=False, isBucket=False)]"
     ]
    }
   ],
   "source": [
    "spark.catalog.listDatabases()\n",
    "spark.catalog.listTables()\n",
    "spark.catalog.listColumns(\"accounts_tb\")"
   ]
  },
  {
   "cell_type": "code",
   "execution_count": 0,
   "metadata": {
    "application/vnd.databricks.v1+cell": {
     "cellMetadata": {},
     "inputWidgets": {},
     "nuid": "2bcd337f-d296-4caa-81e9-b76c344b208b",
     "showTitle": false,
     "title": ""
    }
   },
   "outputs": [],
   "source": []
  }
 ],
 "metadata": {
  "application/vnd.databricks.v1+notebook": {
   "dashboards": [],
   "language": "python",
   "notebookMetadata": {
    "pythonIndentUnit": 4
   },
   "notebookName": "Sindhuja_DSCI5350",
   "widgets": {}
  }
 },
 "nbformat": 4,
 "nbformat_minor": 0
}
